{
 "cells": [
  {
   "cell_type": "code",
   "execution_count": 10,
   "id": "fa218aed-50fb-40dc-837b-0fa749946c93",
   "metadata": {},
   "outputs": [],
   "source": [
    "### Python Packages\n",
    "#This cell imports all the necessary Python libraries for data processing, visualization, \n",
    "#natural language processing (NLP), and machine learning. \n",
    "#It ensures all dependencies are loaded at the start for seamless notebook execution."
   ]
  },
  {
   "cell_type": "code",
   "execution_count": 11,
   "id": "289ebc1b-2bfc-4864-b295-976dc41d45ec",
   "metadata": {},
   "outputs": [
    {
     "name": "stderr",
     "output_type": "stream",
     "text": [
      "[nltk_data] Downloading package stopwords to\n",
      "[nltk_data]     /Users/pouyasmac/nltk_data...\n",
      "[nltk_data]   Package stopwords is already up-to-date!\n"
     ]
    },
    {
     "data": {
      "text/plain": [
       "True"
      ]
     },
     "execution_count": 11,
     "metadata": {},
     "output_type": "execute_result"
    }
   ],
   "source": [
    "# Used Packages\n",
    "import pandas as pd         # For data manipulation and handling\n",
    "import numpy as np          # For numerical computations\n",
    "import matplotlib.pyplot as plt  # For visualizations\n",
    "import seaborn as sns       # For enhanced visualizations\n",
    "from sklearn.model_selection import train_test_split  # For splitting datasets\n",
    "from sklearn.feature_extraction.text import TfidfVectorizer  # For text vectorization\n",
    "from sklearn.linear_model import LogisticRegression  # For training the ML model\n",
    "from sklearn.metrics import classification_report, confusion_matrix, accuracy_score  # For evaluation\n",
    "import nltk                 # For natural language processing (NLP)\n",
    "\n",
    "# Download necessary NLTK data\n",
    "nltk.download('stopwords')\n"
   ]
  },
  {
   "cell_type": "code",
   "execution_count": 17,
   "id": "f940b35d-0625-458e-8dcc-7cbb18a5f517",
   "metadata": {},
   "outputs": [
    {
     "name": "stdout",
     "output_type": "stream",
     "text": [
      "Fake News Dataset:\n",
      "                                               title  \\\n",
      "0   Donald Trump Sends Out Embarrassing New Year’...   \n",
      "1   Drunk Bragging Trump Staffer Started Russian ...   \n",
      "2   Sheriff David Clarke Becomes An Internet Joke...   \n",
      "3   Trump Is So Obsessed He Even Has Obama’s Name...   \n",
      "4   Pope Francis Just Called Out Donald Trump Dur...   \n",
      "\n",
      "                                                text subject  \\\n",
      "0  Donald Trump just couldn t wish all Americans ...    News   \n",
      "1  House Intelligence Committee Chairman Devin Nu...    News   \n",
      "2  On Friday, it was revealed that former Milwauk...    News   \n",
      "3  On Christmas day, Donald Trump announced that ...    News   \n",
      "4  Pope Francis used his annual Christmas Day mes...    News   \n",
      "\n",
      "                date  \n",
      "0  December 31, 2017  \n",
      "1  December 31, 2017  \n",
      "2  December 30, 2017  \n",
      "3  December 29, 2017  \n",
      "4  December 25, 2017  \n"
     ]
    }
   ],
   "source": [
    "# Load datasets\n",
    "fake_df = pd.read_csv('data/fake.csv')  # Replace 'data/' with the path to your fake.csv file\n",
    "true_df = pd.read_csv('data/true.csv')  # Replace 'data/' with the path to your true.csv file\n",
    "\n",
    "# Display the first few rows of each dataset\n",
    "print(\"Fake News Dataset:\")\n",
    "print(fake_df.head())\n",
    "\n"
   ]
  },
  {
   "cell_type": "code",
   "execution_count": 19,
   "id": "90394fc8-017c-483b-b53f-e535114bbbe5",
   "metadata": {},
   "outputs": [
    {
     "name": "stdout",
     "output_type": "stream",
     "text": [
      "\n",
      "True News Dataset:\n",
      "                                               title  \\\n",
      "0  As U.S. budget fight looms, Republicans flip t...   \n",
      "1  U.S. military to accept transgender recruits o...   \n",
      "2  Senior U.S. Republican senator: 'Let Mr. Muell...   \n",
      "3  FBI Russia probe helped by Australian diplomat...   \n",
      "4  Trump wants Postal Service to charge 'much mor...   \n",
      "\n",
      "                                                text       subject  \\\n",
      "0  WASHINGTON (Reuters) - The head of a conservat...  politicsNews   \n",
      "1  WASHINGTON (Reuters) - Transgender people will...  politicsNews   \n",
      "2  WASHINGTON (Reuters) - The special counsel inv...  politicsNews   \n",
      "3  WASHINGTON (Reuters) - Trump campaign adviser ...  politicsNews   \n",
      "4  SEATTLE/WASHINGTON (Reuters) - President Donal...  politicsNews   \n",
      "\n",
      "                 date  \n",
      "0  December 31, 2017   \n",
      "1  December 29, 2017   \n",
      "2  December 31, 2017   \n",
      "3  December 30, 2017   \n",
      "4  December 29, 2017   \n"
     ]
    }
   ],
   "source": [
    "print(\"\\nTrue News Dataset:\")\n",
    "print(true_df.head())"
   ]
  },
  {
   "cell_type": "code",
   "execution_count": null,
   "id": "d41ed73d-bb09-4823-992b-44b1105dfb27",
   "metadata": {},
   "outputs": [],
   "source": []
  }
 ],
 "metadata": {
  "kernelspec": {
   "display_name": "Python 3 (ipykernel)",
   "language": "python",
   "name": "python3"
  },
  "language_info": {
   "codemirror_mode": {
    "name": "ipython",
    "version": 3
   },
   "file_extension": ".py",
   "mimetype": "text/x-python",
   "name": "python",
   "nbconvert_exporter": "python",
   "pygments_lexer": "ipython3",
   "version": "3.12.4"
  }
 },
 "nbformat": 4,
 "nbformat_minor": 5
}
