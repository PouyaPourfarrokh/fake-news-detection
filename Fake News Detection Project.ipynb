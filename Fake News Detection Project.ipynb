{
 "cells": [
  {
   "cell_type": "code",
   "execution_count": 3,
   "id": "fa218aed-50fb-40dc-837b-0fa749946c93",
   "metadata": {},
   "outputs": [],
   "source": [
    "### Python Packages\n",
    "#This cell imports all the necessary Python libraries for data processing, visualization, \n",
    "#natural language processing (NLP), and machine learning. \n",
    "#It ensures all dependencies are loaded at the start for seamless notebook execution."
   ]
  },
  {
   "cell_type": "code",
   "execution_count": 5,
   "id": "289ebc1b-2bfc-4864-b295-976dc41d45ec",
   "metadata": {},
   "outputs": [
    {
     "name": "stderr",
     "output_type": "stream",
     "text": [
      "[nltk_data] Downloading package stopwords to\n",
      "[nltk_data]     /Users/pouyasmac/nltk_data...\n",
      "[nltk_data]   Unzipping corpora/stopwords.zip.\n"
     ]
    },
    {
     "data": {
      "text/plain": [
       "True"
      ]
     },
     "execution_count": 5,
     "metadata": {},
     "output_type": "execute_result"
    }
   ],
   "source": [
    "# Used Packages\n",
    "import pandas as pd         # For data manipulation and handling\n",
    "import numpy as np          # For numerical computations\n",
    "import matplotlib.pyplot as plt  # For visualizations\n",
    "import seaborn as sns       # For enhanced visualizations\n",
    "from sklearn.model_selection import train_test_split  # For splitting datasets\n",
    "from sklearn.feature_extraction.text import TfidfVectorizer  # For text vectorization\n",
    "from sklearn.linear_model import LogisticRegression  # For training the ML model\n",
    "from sklearn.metrics import classification_report, confusion_matrix, accuracy_score  # For evaluation\n",
    "import nltk                 # For natural language processing (NLP)\n",
    "\n",
    "# Download necessary NLTK data\n",
    "nltk.download('stopwords')\n"
   ]
  },
  {
   "cell_type": "code",
   "execution_count": null,
   "id": "f940b35d-0625-458e-8dcc-7cbb18a5f517",
   "metadata": {},
   "outputs": [],
   "source": []
  }
 ],
 "metadata": {
  "kernelspec": {
   "display_name": "Python 3 (ipykernel)",
   "language": "python",
   "name": "python3"
  },
  "language_info": {
   "codemirror_mode": {
    "name": "ipython",
    "version": 3
   },
   "file_extension": ".py",
   "mimetype": "text/x-python",
   "name": "python",
   "nbconvert_exporter": "python",
   "pygments_lexer": "ipython3",
   "version": "3.12.4"
  }
 },
 "nbformat": 4,
 "nbformat_minor": 5
}
